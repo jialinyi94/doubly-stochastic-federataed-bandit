{
 "cells": [
  {
   "cell_type": "code",
   "execution_count": 11,
   "metadata": {},
   "outputs": [
    {
     "name": "stdout",
     "output_type": "stream",
     "text": [
      "['ethereal-spaceship-10', 'scarlet-snowflake-9', 'wobbly-snowflake-8', 'rare-leaf-7', 'sunny-wildflower-6', 'deep-dust-5', 'volcanic-spaceship-4', 'splendid-plant-3', 'cosmic-paper-2', 'astral-sun-1']\n",
      "{'RGG-0.9-0': ['glorious-rain-110', 'swift-resonance-109', 'fanciful-thunder-108', 'deft-universe-107', 'drawn-serenity-106', 'woven-sound-105', 'copper-armadillo-104', 'different-surf-103', 'polar-disco-102', 'azure-brook-101'], 'RGG-0.8-0': ['electric-moon-100', 'fiery-oath-99', 'dutiful-forest-98', 'devoted-dust-97', 'cool-fire-96', 'copper-monkey-95', 'comic-terrain-94', 'apricot-salad-93', 'autumn-darkness-92', 'sage-spaceship-91'], 'RGG-0.7-0': ['feasible-vortex-90', 'eager-silence-89', 'unique-fire-88', 'eager-plasma-87', 'silver-puddle-86', 'comic-leaf-85', 'summer-snow-84', 'fiery-disco-83', 'absurd-cherry-82', 'floral-totem-81'], 'RGG-0.6-0': ['effortless-silence-80', 'still-deluge-79', 'breezy-wildflower-78', 'jumping-capybara-77', 'leafy-planet-76', 'jumping-thunder-75', 'fallen-field-74', 'silver-field-73', 'clear-blaze-72', 'light-haze-71'], 'RGG-0.5-0': ['sleek-sponge-70', 'lemon-durian-69', 'ancient-donkey-68', 'easy-night-67', 'clear-brook-66', 'wise-breeze-65', 'worldly-serenity-64', 'glowing-wood-63', 'magic-frost-62', 'fine-night-61'], 'RGG-0.4-0': ['misunderstood-lion-60', 'graceful-sky-59', 'clear-dust-58', 'swept-darkness-57', 'easy-wildflower-56', 'chocolate-mountain-55', 'feasible-deluge-54', 'mild-mountain-53', 'pleasant-wildflower-52', 'resilient-feather-51'], 'RGG-0.3-0': ['wandering-lake-50', 'amber-mountain-49', 'spring-meadow-48', 'rural-deluge-47', 'easy-voice-46', 'treasured-mountain-45', 'wobbly-dream-44', 'solar-firebrand-43', 'happy-sponge-42', 'robust-sound-41'], 'COMPLETE': ['avid-smoke-30', 'crisp-terrain-29', 'divine-firebrand-28', 'atomic-moon-27', 'crimson-forest-26', 'true-sound-25', 'lilac-fog-24', 'sunny-feather-23', 'decent-jazz-22', 'chocolate-cherry-21'], 'GRID': ['woven-wood-20', 'restful-glade-19', 'solar-snowball-18', 'earnest-wind-17', 'vibrant-firefly-16', 'lilac-breeze-15', 'sleek-sound-14', 'efficient-valley-13', 'silvery-brook-12', 'exalted-capybara-11']}\n"
     ]
    }
   ],
   "source": [
    "import pandas as pd \n",
    "import wandb\n",
    "api = wandb.Api()\n",
    "\n",
    "# Project is specified by <entity/project-name>\n",
    "runs = api.runs(\"jialinyi/icml-2023\")\n",
    "\n",
    "\n",
    "exp3_runs = []\n",
    "fedexp3_runs = {}\n",
    "for run in runs: \n",
    "    if run.config['env'] == 'HalfActBandit-0':\n",
    "        if run.config['network'] == 'NONE':\n",
    "            exp3_runs.append(run.name)\n",
    "        else:\n",
    "            if run.config['network'] not in fedexp3_runs:\n",
    "                fedexp3_runs[run.config['network']] = [run.name]\n",
    "            else:\n",
    "                fedexp3_runs[run.config['network']].append(run.name)\n",
    "        \n",
    "print(exp3_runs)\n",
    "print(fedexp3_runs)"
   ]
  }
 ],
 "metadata": {
  "kernelspec": {
   "display_name": "icml-2023",
   "language": "python",
   "name": "python3"
  },
  "language_info": {
   "codemirror_mode": {
    "name": "ipython",
    "version": 3
   },
   "file_extension": ".py",
   "mimetype": "text/x-python",
   "name": "python",
   "nbconvert_exporter": "python",
   "pygments_lexer": "ipython3",
   "version": "3.9.15"
  },
  "orig_nbformat": 4,
  "vscode": {
   "interpreter": {
    "hash": "0266dd4f870e1d62abbeebbb019872898c42c5da94eeda53bc1c0ebec7fd4f3b"
   }
  }
 },
 "nbformat": 4,
 "nbformat_minor": 2
}
